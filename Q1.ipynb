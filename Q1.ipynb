{
 "cells": [
  {
   "cell_type": "markdown",
   "metadata": {},
   "source": [
    "---  \n",
    "# Question 1\n",
    "\n",
    "Contributions from Question 1:\n",
    "- Jason Li: Wrote and tested code"
   ]
  },
  {
   "cell_type": "code",
   "execution_count": 39,
   "metadata": {},
   "outputs": [],
   "source": [
    "import numpy as np\n",
    "import matplotlib.pyplot as plt\n",
    "from scipy.interpolate import lagrange\n",
    "from scipy.optimize import curve_fit"
   ]
  },
  {
   "cell_type": "markdown",
   "metadata": {},
   "source": [
    "## 1a) Approximate f(1.4) for 4 different polynomials"
   ]
  },
  {
   "cell_type": "code",
   "execution_count": 53,
   "metadata": {},
   "outputs": [
    {
     "name": "stdout",
     "output_type": "stream",
     "text": [
      "P_12(1.4):  -0.8116566676616641\n",
      "P_012(1.4):  -0.9182280617406038\n",
      "P_123(1.4):  -0.948748789289704\n",
      "P_0123(1.4):  -0.9334884255151685\n",
      "True value:  -0.9510565162951535\n"
     ]
    }
   ],
   "source": [
    "x_i = [1,1.25,1.6,1.8] \n",
    "def f(x): return np.sin(np.pi * x)\n",
    "x = 1.4\n",
    "y_i = [f(x_i[0]),  f(x_i[1]), f(x_i[2]), f(x_i[3])]\n",
    "p_12 = lagrange(x_i[1:3],y_i[1:3])\n",
    "p_012 = lagrange(x_i[0:3],y_i[0:3])\n",
    "p_123 = lagrange(x_i[1:4],y_i[1:4])\n",
    "p_0123 = lagrange(x_i[0:4],y_i[0:4]) \n",
    "y_12 = p_12(x)\n",
    "y_012 = p_012(x)\n",
    "y_123 = p_123(x)\n",
    "y_0123 = p_0123(x)\n",
    "print(\"P_12(1.4): \", y_12) \n",
    "print(\"P_012(1.4): \", y_012)\n",
    "print(\"P_123(1.4): \", y_123)\n",
    "print(\"P_0123(1.4): \", y_0123)\n",
    "print(\"True value: \", f(x))\n"
   ]
  },
  {
   "cell_type": "markdown",
   "metadata": {},
   "source": [
    "$P_{1,2}(1.4)$:  -0.8116566676616641\n",
    "\n",
    "$P_{0,1,2}(1.4)$:  -0.9182280617406038\n",
    "\n",
    "$P_{1,2,3}(1.4)$:  -0.948748789289704\n",
    "\n",
    "$P_{0,1,2,3}(1.4)$:  -0.9334884255151685\n",
    "\n",
    "True value:  -0.9510565162951535\n"
   ]
  },
  {
   "cell_type": "markdown",
   "metadata": {},
   "source": [
    "## 1b) Compute the absolute error for each polynomial"
   ]
  },
  {
   "cell_type": "code",
   "execution_count": 49,
   "metadata": {},
   "outputs": [
    {
     "name": "stdout",
     "output_type": "stream",
     "text": [
      "Absolute error of P_12(1.4):  0.13939984863348942\n",
      "Absolute error of P_012(1.4):  0.032828454554549746\n",
      "Absolute error of P_123(1.4):  0.002307727005449567\n",
      "Absolute error of P_0123(1.4):  0.017568090779985\n"
     ]
    }
   ],
   "source": [
    "diff_12 = np.abs(y_12 - f(x))\n",
    "diff_012 = np.abs(y_012 - f(x))\n",
    "diff_123 = np.abs(y_123 - f(x))\n",
    "diff_0123 = np.abs(y_0123 - f(x))\n",
    "print(\"Absolute error of P_12(1.4): \", diff_12) \n",
    "print(\"Absolute error of P_012(1.4): \", diff_012)\n",
    "print(\"Absolute error of P_123(1.4): \", diff_123)\n",
    "print(\"Absolute error of P_0123(1.4): \", diff_0123)"
   ]
  },
  {
   "cell_type": "markdown",
   "metadata": {},
   "source": [
    "Absolute error of $P_{1,2}$(1.4):  0.13939984863348942\n",
    "\n",
    "Absolute error of $P_{0,1,2}$(1.4):  0.032828454554549746\n",
    "\n",
    "Absolute error of $P_{1,2,3}$(1.4):  0.002307727005449567\n",
    "\n",
    "Absolute error of $P_{0,1,2,3}$(1.4):  0.017568090779985\n",
    "\n",
    "Based on these values, we can see that the interpolating quadratic ($P_{1,2,3}$(x)) is best since it has the lowest absolute error"
   ]
  },
  {
   "cell_type": "markdown",
   "metadata": {},
   "source": [
    "## 1c) Error bounds for each polynomial"
   ]
  },
  {
   "cell_type": "code",
   "execution_count": 50,
   "metadata": {},
   "outputs": [
    {
     "name": "stdout",
     "output_type": "stream",
     "text": [
      "Error bound for P_12(1.4):  0.14804406599807254\n",
      "Error bound for P_012(1.4):  0.06201255336059963\n",
      "Error bound for P_123(1.4):  0.05016920953330838\n",
      "Error bound for P_0123(1.4):  0.01948181812025816\n"
     ]
    }
   ],
   "source": [
    "def f2(x): return -np.sin(np.pi * x) * (np.pi ** 2) # second derivative\n",
    "def f3(x): return -np.cos(np.pi * x) * (np.pi ** 3) # third derivative\n",
    "def f4(x): return np.sin(np.pi * x) * (np.pi ** 4) # fourth derivative\n",
    "interval12 = [x_i[1],x_i[2]]\n",
    "interval012 = [x_i[0],x_i[2]]\n",
    "interval123 = [x_i[1],x_i[3]]\n",
    "interval0123 = [x_i[0],x_i[3]]\n",
    "maxf2_12 = np.max(abs(f2(np.linspace(interval12[0], interval12[1], 10000)))) # max of second derivative on interval 1.25,1.6\n",
    "    # true max for above is at abs(f2(1.5)) when derived by hand\n",
    "maxf3_012 = np.max(abs(f3(np.linspace(interval012[0], interval012[1], 10000)))) # max of third derivative on interval 1, 1.6\n",
    "    # true max for above is at abs(f3(1)) when derived by hand\n",
    "maxf3_123 = np.max(abs(f3(np.linspace(interval123[0], interval123[1], 10000)))) # max of third derivative on interval 1.25, 1.8\n",
    "    # true max for above is at abs(f3(1.8)) when derived by hand\n",
    "maxf4_0123 = np.max(abs(f4(np.linspace(interval012[0], interval012[1], 10000)))) # max of fourth derivative on interval 1, 1.8\n",
    "    # true max for above is at abs(f4(1.5)) when derived by hand\n",
    "\n",
    "# compute error terms\n",
    "eb12 = abs(maxf2_12 / (2 * 1) * (x-x_i[1]) * (x-x_i[2]))\n",
    "eb012 = abs(maxf3_012 / (3 * 2 * 1) * (x-x_i[0]) * (x-x_i[1]) * (x-x_i[2]))\n",
    "eb123 = abs(maxf3_123 / (3 * 2 * 1) * (x-x_i[1]) * (x-x_i[2]) * (x-x_i[3]))\n",
    "eb0123 = abs(maxf4_0123 / (4 * 3 * 2 * 1) * (x-x_i[0]) * (x-x_i[1]) * (x-x_i[2]) * (x-x_i[3]))\n",
    "print(\"Error bound for P_12(1.4): \", eb12) \n",
    "print(\"Error bound for P_012(1.4): \", eb012)\n",
    "print(\"Error bound for P_123(1.4): \", eb123)\n",
    "print(\"Error bound for P_0123(1.4): \", eb0123)"
   ]
  },
  {
   "cell_type": "markdown",
   "metadata": {},
   "source": [
    "Error bound for $P_{1,2}$(1.4):  0.14804406599807254\n",
    "\n",
    "Error bound for $P_{0,1,2}$(1.4):  0.06201255336059963\n",
    "\n",
    "Error bound for $P_{1,2,3}$(1.4):  0.05016920953330838\n",
    "\n",
    "Error bound for $P_{0,1,2,3}$(1.4):  0.01948181812025816\n",
    "\n",
    "Based on these values, we can see that the interpolating cubic ($P_{0,1,2,3}$(x)) has the best (lowest) error bound. These error bounds make sense because all the errors in part (b) are less than their corresponding error bounds here. We can see that this result of which polynomial is best is different from part (b)."
   ]
  }
 ],
 "metadata": {
  "kernelspec": {
   "display_name": "Python 3",
   "language": "python",
   "name": "python3"
  },
  "language_info": {
   "codemirror_mode": {
    "name": "ipython",
    "version": 3
   },
   "file_extension": ".py",
   "mimetype": "text/x-python",
   "name": "python",
   "nbconvert_exporter": "python",
   "pygments_lexer": "ipython3",
   "version": "3.11.0"
  }
 },
 "nbformat": 4,
 "nbformat_minor": 2
}
