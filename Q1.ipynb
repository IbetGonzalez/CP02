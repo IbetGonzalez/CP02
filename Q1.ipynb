{
 "cells": [
  {
   "cell_type": "code",
   "execution_count": 2,
   "metadata": {},
   "outputs": [],
   "source": [
    "import numpy as np\n",
    "import matplotlib.pyplot as plt\n",
    "from scipy.interpolate import lagrange\n",
    "from scipy.optimize import curve_fit"
   ]
  },
  {
   "cell_type": "markdown",
   "metadata": {},
   "source": [
    "# 1a) Approximate f(1.4) for 4 different polynomials"
   ]
  },
  {
   "cell_type": "code",
   "execution_count": 14,
   "metadata": {},
   "outputs": [
    {
     "name": "stdout",
     "output_type": "stream",
     "text": [
      "P_12(1.4):  -0.7071067811865475\n",
      "P_012(1.4):  -1.131370849898476\n",
      "P_123(1.4):  -0.8116566676616641\n",
      "P_0123(1.4):  -0.9182280617406038\n",
      "True value:  -0.9510565162951535\n"
     ]
    }
   ],
   "source": [
    "x_i = [1,1.25,1.6,1.8] \n",
    "def f(x): return np.sin(np.pi * x)\n",
    "x = 1.4\n",
    "y_i = [f(x_i[0]),  f(x_i[1]), f(x_i[2]), f(x_i[3])]\n",
    "p_12 = lagrange(x_i[1:2],y_i[1:2])\n",
    "p_012 = lagrange(x_i[0:2],y_i[0:2])\n",
    "p_123 = lagrange(x_i[1:3],y_i[1:3])\n",
    "p_0123 = lagrange(x_i[0:3],y_i[0:3]) \n",
    "y_12 = p_12(x)\n",
    "y_012 = p_012(x)\n",
    "y_123 = p_123(x)\n",
    "y_0123 = p_0123(x)\n",
    "\n",
    "\n",
    "\n",
    "print(\"P_12(1.4): \", y_12) \n",
    "print(\"P_012(1.4): \", y_012)\n",
    "print(\"P_123(1.4): \", y_123)\n",
    "print(\"P_0123(1.4): \", y_0123)\n",
    "print(\"True value: \", f(x))\n",
    "\n",
    "\n",
    "\n",
    "\n"
   ]
  }
 ],
 "metadata": {
  "kernelspec": {
   "display_name": "Python 3",
   "language": "python",
   "name": "python3"
  },
  "language_info": {
   "codemirror_mode": {
    "name": "ipython",
    "version": 3
   },
   "file_extension": ".py",
   "mimetype": "text/x-python",
   "name": "python",
   "nbconvert_exporter": "python",
   "pygments_lexer": "ipython3",
   "version": "3.11.0"
  }
 },
 "nbformat": 4,
 "nbformat_minor": 2
}
