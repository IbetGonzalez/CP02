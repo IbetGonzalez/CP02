{
 "cells": [
  {
   "cell_type": "markdown",
   "metadata": {},
   "source": [
    "---  \n",
    "# Question 2\n",
    "\n",
    "Contributions from Question 2:\n",
    "- Jason Li: Wrote and tested code"
   ]
  },
  {
   "cell_type": "code",
   "execution_count": 2,
   "metadata": {},
   "outputs": [],
   "source": [
    "import numpy as np\n",
    "import matplotlib.pyplot as plt\n",
    "from scipy.interpolate import lagrange\n",
    "from scipy.optimize import curve_fit"
   ]
  },
  {
   "cell_type": "markdown",
   "metadata": {},
   "source": [
    "## 2a) Use the divided-difference formula to construct an interpolating polynomial from the given set of data"
   ]
  },
  {
   "cell_type": "code",
   "execution_count": 28,
   "metadata": {},
   "outputs": [
    {
     "name": "stdout",
     "output_type": "stream",
     "text": [
      "[[-0.62049958  3.365129   -2.2962635  -0.47315167]\n",
      " [-0.28398668  2.9058763  -2.438209    0.        ]\n",
      " [ 0.00660095  2.4182345   0.          0.        ]\n",
      " [ 0.2484244   0.          0.          0.        ]]\n",
      "-0.13277477437499996\n"
     ]
    }
   ],
   "source": [
    "x = [0.1, .2, .3, .4]\n",
    "fx = [ -0.62049958, -0.28398668, 0.00660095, .24842440]\n",
    "n = 4\n",
    "table = np.zeros([4, 4])\n",
    "table[:,0] = fx\n",
    "for col in range(1,n):\n",
    "    for row in range(0,n - col):\n",
    "        table[row][col] = (table[row + 1][col - 1] - table[row][col - 1])/(x[row + col] - x[row])\n",
    "print(table)\n",
    "\n",
    "def approx(x_i, matrx, xVal):\n",
    "    coefs = matrx[0]\n",
    "    elements = coefs.size\n",
    "    res = 0\n",
    "    ## since we have P(x) = a + b(x-.1) + c(x-.1)(x-.2) + d(x-.1)(x-.2)(x-.3)\n",
    "    ## this is the same as P(x) = a + (x-.1)(b + (x-.2)(c + (x-.3)(d)))\n",
    "    ## so we can optimize the calculation by starting from the right, adding the ith coefficient, then multiply by (x-(x_(i-1)))\n",
    "    for i in range(elements - 1, -1, -1):\n",
    "        res += coefs[i]\n",
    "        if i > 0:\n",
    "            res *= (xVal - x[i - 1])\n",
    "    return res\n",
    "print(\"The approximation is: \", approx(x, table, 0.25))\n",
    "\n",
    "\n"
   ]
  },
  {
   "cell_type": "markdown",
   "metadata": {},
   "source": [
    "Using Newton's Divided Differences, we get that f(0.25) is approximately -0.13277477437499996"
   ]
  },
  {
   "cell_type": "markdown",
   "metadata": {},
   "source": [
    "## 2b) add a point, and approximate again"
   ]
  },
  {
   "cell_type": "code",
   "execution_count": null,
   "metadata": {},
   "outputs": [],
   "source": []
  }
 ],
 "metadata": {
  "kernelspec": {
   "display_name": "Python 3",
   "language": "python",
   "name": "python3"
  },
  "language_info": {
   "codemirror_mode": {
    "name": "ipython",
    "version": 3
   },
   "file_extension": ".py",
   "mimetype": "text/x-python",
   "name": "python",
   "nbconvert_exporter": "python",
   "pygments_lexer": "ipython3",
   "version": "3.11.0"
  }
 },
 "nbformat": 4,
 "nbformat_minor": 2
}
