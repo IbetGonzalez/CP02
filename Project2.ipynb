{
 "cells": [
  {
   "cell_type": "markdown",
   "metadata": {},
   "source": [
    "<H3 align = \"right\">Fall 2024 Computer_Project_2</H3>\n",
    "\n",
    "## Group Number: 8\n",
    "\n",
    "## Names of Student in Group:\n",
    "- Name: Monique Kubovsky\n",
    "- Name: Jason Li\n",
    "- Name: Ibet Gonzalez Viltres"
   ]
  },
  {
   "cell_type": "markdown",
   "metadata": {},
   "source": [
    "---  \n",
    "# Question 1\n",
    "\n",
    "Contributions from Question 1:\n",
    "- Jason Li: Wrote and tested code\n",
    "- Monique Kubovsky: Reviewed Code\n",
    "- Ibet Gonzalez Viltres: Reviewed Code"
   ]
  },
  {
   "cell_type": "code",
   "execution_count": 1,
   "metadata": {},
   "outputs": [],
   "source": [
    "import numpy as np\n",
    "import matplotlib.pyplot as plt\n",
    "from scipy.interpolate import lagrange\n",
    "from scipy.optimize import curve_fit"
   ]
  },
  {
   "cell_type": "markdown",
   "metadata": {},
   "source": [
    "## 1a) Approximate f(1.4) for 4 different polynomials"
   ]
  },
  {
   "cell_type": "code",
   "execution_count": 2,
   "metadata": {},
   "outputs": [
    {
     "name": "stdout",
     "output_type": "stream",
     "text": [
      "P_12(1.4):  -0.8116566676616641\n",
      "P_012(1.4):  -0.9182280617406038\n",
      "P_123(1.4):  -0.948748789289704\n",
      "P_0123(1.4):  -0.9334884255151685\n",
      "True value:  -0.9510565162951535\n"
     ]
    }
   ],
   "source": [
    "x_i = [1,1.25,1.6,1.8] \n",
    "def f(x): return np.sin(np.pi * x)\n",
    "x = 1.4\n",
    "y_i = [f(x_i[0]),  f(x_i[1]), f(x_i[2]), f(x_i[3])]\n",
    "p_12 = lagrange(x_i[1:3],y_i[1:3])\n",
    "p_012 = lagrange(x_i[0:3],y_i[0:3])\n",
    "p_123 = lagrange(x_i[1:4],y_i[1:4])\n",
    "p_0123 = lagrange(x_i[0:4],y_i[0:4]) \n",
    "y_12 = p_12(x)\n",
    "y_012 = p_012(x)\n",
    "y_123 = p_123(x)\n",
    "y_0123 = p_0123(x)\n",
    "print(\"P_12(1.4): \", y_12) \n",
    "print(\"P_012(1.4): \", y_012)\n",
    "print(\"P_123(1.4): \", y_123)\n",
    "print(\"P_0123(1.4): \", y_0123)\n",
    "print(\"True value: \", f(x))\n"
   ]
  },
  {
   "cell_type": "markdown",
   "metadata": {},
   "source": [
    "$P_{1,2}(1.4)$:  -0.8116566676616641\n",
    "\n",
    "$P_{0,1,2}(1.4)$:  -0.9182280617406038\n",
    "\n",
    "$P_{1,2,3}(1.4)$:  -0.948748789289704\n",
    "\n",
    "$P_{0,1,2,3}(1.4)$:  -0.9334884255151685\n",
    "\n",
    "True value:  -0.9510565162951535\n"
   ]
  },
  {
   "cell_type": "markdown",
   "metadata": {},
   "source": [
    "## 1b) Compute the absolute error for each polynomial"
   ]
  },
  {
   "cell_type": "code",
   "execution_count": 3,
   "metadata": {},
   "outputs": [
    {
     "name": "stdout",
     "output_type": "stream",
     "text": [
      "Absolute error of P_12(1.4):  0.13939984863348942\n",
      "Absolute error of P_012(1.4):  0.032828454554549746\n",
      "Absolute error of P_123(1.4):  0.002307727005449567\n",
      "Absolute error of P_0123(1.4):  0.017568090779985\n"
     ]
    }
   ],
   "source": [
    "diff_12 = np.abs(y_12 - f(x))\n",
    "diff_012 = np.abs(y_012 - f(x))\n",
    "diff_123 = np.abs(y_123 - f(x))\n",
    "diff_0123 = np.abs(y_0123 - f(x))\n",
    "print(\"Absolute error of P_12(1.4): \", diff_12) \n",
    "print(\"Absolute error of P_012(1.4): \", diff_012)\n",
    "print(\"Absolute error of P_123(1.4): \", diff_123)\n",
    "print(\"Absolute error of P_0123(1.4): \", diff_0123)"
   ]
  },
  {
   "cell_type": "markdown",
   "metadata": {},
   "source": [
    "Absolute error of $P_{1,2}$(1.4):  0.13939984863348942\n",
    "\n",
    "Absolute error of $P_{0,1,2}$(1.4):  0.032828454554549746\n",
    "\n",
    "Absolute error of $P_{1,2,3}$(1.4):  0.002307727005449567\n",
    "\n",
    "Absolute error of $P_{0,1,2,3}$(1.4):  0.017568090779985\n",
    "\n",
    "Based on these values, we can see that the interpolating quadratic ($P_{1,2,3}$(x)) is best since it has the lowest absolute error"
   ]
  },
  {
   "cell_type": "markdown",
   "metadata": {},
   "source": [
    "## 1c) Error bounds for each polynomial"
   ]
  },
  {
   "cell_type": "code",
   "execution_count": 4,
   "metadata": {},
   "outputs": [
    {
     "name": "stdout",
     "output_type": "stream",
     "text": [
      "Error bound for P_12(1.4):  0.14804406599807254\n",
      "Error bound for P_012(1.4):  0.06201255336059963\n",
      "Error bound for P_123(1.4):  0.05016920953330838\n",
      "Error bound for P_0123(1.4):  0.01948181812025816\n"
     ]
    }
   ],
   "source": [
    "def f2(x): return -np.sin(np.pi * x) * (np.pi ** 2) # second derivative\n",
    "def f3(x): return -np.cos(np.pi * x) * (np.pi ** 3) # third derivative\n",
    "def f4(x): return np.sin(np.pi * x) * (np.pi ** 4) # fourth derivative\n",
    "interval12 = [x_i[1],x_i[2]]\n",
    "interval012 = [x_i[0],x_i[2]]\n",
    "interval123 = [x_i[1],x_i[3]]\n",
    "interval0123 = [x_i[0],x_i[3]]\n",
    "maxf2_12 = np.max(abs(f2(np.linspace(interval12[0], interval12[1], 10000)))) # max of second derivative on interval 1.25,1.6\n",
    "    # true max for above is at abs(f2(1.5)) when derived by hand\n",
    "maxf3_012 = np.max(abs(f3(np.linspace(interval012[0], interval012[1], 10000)))) # max of third derivative on interval 1, 1.6\n",
    "    # true max for above is at abs(f3(1)) when derived by hand\n",
    "maxf3_123 = np.max(abs(f3(np.linspace(interval123[0], interval123[1], 10000)))) # max of third derivative on interval 1.25, 1.8\n",
    "    # true max for above is at abs(f3(1.8)) when derived by hand\n",
    "maxf4_0123 = np.max(abs(f4(np.linspace(interval012[0], interval012[1], 10000)))) # max of fourth derivative on interval 1, 1.8\n",
    "    # true max for above is at abs(f4(1.5)) when derived by hand\n",
    "\n",
    "# compute error terms\n",
    "eb12 = abs(maxf2_12 / (2 * 1) * (x-x_i[1]) * (x-x_i[2]))\n",
    "eb012 = abs(maxf3_012 / (3 * 2 * 1) * (x-x_i[0]) * (x-x_i[1]) * (x-x_i[2]))\n",
    "eb123 = abs(maxf3_123 / (3 * 2 * 1) * (x-x_i[1]) * (x-x_i[2]) * (x-x_i[3]))\n",
    "eb0123 = abs(maxf4_0123 / (4 * 3 * 2 * 1) * (x-x_i[0]) * (x-x_i[1]) * (x-x_i[2]) * (x-x_i[3]))\n",
    "print(\"Error bound for P_12(1.4): \", eb12) \n",
    "print(\"Error bound for P_012(1.4): \", eb012)\n",
    "print(\"Error bound for P_123(1.4): \", eb123)\n",
    "print(\"Error bound for P_0123(1.4): \", eb0123)"
   ]
  },
  {
   "cell_type": "markdown",
   "metadata": {},
   "source": [
    "Error bound for $P_{1,2}$(1.4):  0.14804406599807254\n",
    "\n",
    "Error bound for $P_{0,1,2}$(1.4):  0.06201255336059963\n",
    "\n",
    "Error bound for $P_{1,2,3}$(1.4):  0.05016920953330838\n",
    "\n",
    "Error bound for $P_{0,1,2,3}$(1.4):  0.01948181812025816\n",
    "\n",
    "Based on these values, we can see that the interpolating cubic ($P_{0,1,2,3}$(x)) has the best (lowest) error bound. These error bounds make sense because all the errors in part (b) are less than their corresponding error bounds here. We can see that this result of which polynomial is best is different from part (b)."
   ]
  },
  {
   "cell_type": "markdown",
   "metadata": {},
   "source": [
    "---  \n",
    "# Question 2\n",
    "\n",
    "Contributions from Question 2:\n",
    "- Jason Li: Wrote and tested code\n",
    "- Monique Kubovsky: Reviewed Code\n",
    "- Ibet Gonzalez Viltres: Reviewed Code"
   ]
  },
  {
   "cell_type": "code",
   "execution_count": 5,
   "metadata": {},
   "outputs": [],
   "source": [
    "import numpy as np\n",
    "import matplotlib.pyplot as plt\n",
    "from scipy.interpolate import lagrange\n",
    "from scipy.optimize import curve_fit"
   ]
  },
  {
   "cell_type": "markdown",
   "metadata": {},
   "source": [
    "## 2a) Use the divided-difference formula to construct an interpolating polynomial from the given set of data"
   ]
  },
  {
   "cell_type": "code",
   "execution_count": 6,
   "metadata": {},
   "outputs": [
    {
     "name": "stdout",
     "output_type": "stream",
     "text": [
      "[[-0.62049958  3.365129   -2.2962635  -0.47315167]\n",
      " [-0.28398668  2.9058763  -2.438209    0.        ]\n",
      " [ 0.00660095  2.4182345   0.          0.        ]\n",
      " [ 0.2484244   0.          0.          0.        ]]\n",
      "The approximation is:  -0.13277477437499996\n"
     ]
    }
   ],
   "source": [
    "x = [0.1, .2, .3, .4]\n",
    "fx = [ -0.62049958, -0.28398668, 0.00660095, .24842440]\n",
    "n = 4\n",
    "table = np.zeros([4, 4])\n",
    "table[:,0] = fx\n",
    "# constructing the table\n",
    "for col in range(1,n):\n",
    "    for row in range(0,n - col):\n",
    "        table[row][col] = (table[row + 1][col - 1] - table[row][col - 1])/(x[row + col] - x[row])\n",
    "print(table)\n",
    "\n",
    "def approx(x_i, matrx, xVal):\n",
    "    coefs = matrx[0]\n",
    "    elements = coefs.size\n",
    "    res = 0\n",
    "    ## since we have P(x) = a + b(x-.1) + c(x-.1)(x-.2) + d(x-.1)(x-.2)(x-.3)\n",
    "    ## this is the same as P(x) = a + (x-.1)(b + (x-.2)(c + (x-.3)(d)))\n",
    "    ## so we can optimize the calculation by starting from the right, adding the ith coefficient, then multiply by (x-(x_(i-1)))\n",
    "    for i in range(elements - 1, -1, -1):\n",
    "        res += coefs[i]\n",
    "        if i > 0:\n",
    "            res *= (xVal - x[i - 1])\n",
    "    return res\n",
    "print(\"The approximation is: \", approx(x, table, 0.25))\n",
    "\n",
    "\n"
   ]
  },
  {
   "cell_type": "markdown",
   "metadata": {},
   "source": [
    "Using Newton's Divided Differences, we get that f(0.25) is approximately -0.13277477437499996"
   ]
  },
  {
   "cell_type": "markdown",
   "metadata": {},
   "source": [
    "## 2b) add a point, and approximate again"
   ]
  },
  {
   "cell_type": "code",
   "execution_count": 7,
   "metadata": {},
   "outputs": [
    {
     "name": "stdout",
     "output_type": "stream",
     "text": [
      "[[-6.20499580e-01  3.36512900e+00 -2.29626350e+00 -4.73151667e-01\n",
      "  -1.32725692e+02]\n",
      " [-2.83986680e-01  2.90587630e+00 -2.43820900e+00 -5.35634283e+01\n",
      "   0.00000000e+00]\n",
      " [ 6.60095000e-03  2.41823450e+00 -1.85072375e+01  0.00000000e+00\n",
      "   0.00000000e+00]\n",
      " [ 1.28321300e-01 -1.28321300e+00  0.00000000e+00  0.00000000e+00\n",
      "   0.00000000e+00]\n",
      " [ 0.00000000e+00  0.00000000e+00  0.00000000e+00  0.00000000e+00\n",
      "   0.00000000e+00]]\n",
      "The approximation is:  -0.14024059453124993\n"
     ]
    }
   ],
   "source": [
    "def addPoint(curX, curTable, newX, newY):\n",
    "    resX = np.append(curX, newX)\n",
    "    newN = resX.size\n",
    "    resTable = np.zeros((newN, newN))\n",
    "    resTable[:-1, :-1] = curTable\n",
    "    resTable[n - 1, 0] = newY  # Set the new y value\n",
    "    for j in range(1, newN):\n",
    "        resTable[newN - j - 1, j] = (resTable[newN - j, j - 1] - resTable[newN - j - 1, j - 1]) / (resX[newN - 1] - resX[newN - j - 1])\n",
    "    \n",
    "    return resX, resTable\n",
    "[addedx, tableAdded] = addPoint(x, table, .5, 0.12832130)\n",
    "print(tableAdded)\n",
    "\n",
    "print(\"The approximation is: \", approx(addedx, tableAdded, 0.25))\n"
   ]
  },
  {
   "cell_type": "markdown",
   "metadata": {},
   "source": [
    "The new approximation is -0.14024059453124993. Yes, this approximation changed from part (a)"
   ]
  },
  {
   "cell_type": "markdown",
   "metadata": {},
   "source": [
    "---  \n",
    "# Question 3\n",
    "\n",
    "Contributions from Question 3:\n",
    "- Ibet Gonzalez Viltres: Wrote and tested code\n",
    "- Monique Kubovsky: Reviewed Code\n",
    "- Jason Li: Reviewed Code"
   ]
  },
  {
   "cell_type": "code",
   "execution_count": 8,
   "metadata": {},
   "outputs": [
    {
     "name": "stdout",
     "output_type": "stream",
     "text": [
      "Least Squares Polynomial of degree 1: y = 34.88829602076649x + (-58.66515634479413)\n",
      "\t SSres: 12779.590354193064\n",
      "\t SSreg:  3496.717845806951\n",
      "\t SStot:  16276.308200000014\n",
      "\t R^2: 0.21483482635251083\n",
      "Least Squares Polynomial of degree 2: y = -120.47348060522819x^2 + 389.21843131422537x + (-260.7318261968598)\n",
      "\t SSres: 3666733.905008404\n",
      "\t SSreg:  3594748.528200675\n",
      "\t SStot:  7261482.433209078\n",
      "\t R^2: 0.49504334153047613\n",
      "Least Squares Polynomial of degree 2: y = -114.45087297102327x^3 + 389.45021516270936x^2 + -291.4452484637877x + (-6.718371524460963)\n",
      "\t SSres: 7074909.300534538\n",
      "\t SSreg:  6963373.767285682\n",
      "\t SStot:  14038283.067820221\n",
      "\t R^2: 0.49602745105259605\n"
     ]
    }
   ],
   "source": [
    "import numpy as np\n",
    "import matplotlib.pyplot as plt\n",
    "from scipy.interpolate import lagrange\n",
    "from scipy.optimize import curve_fit\n",
    "\n",
    "x = np.array([0.55, 1.03, 1.79, 2.03, 2.15, 2.30, 2.36])\n",
    "y = np.array([-71.79, -7.5, 28.89, 62.97, 55.43, 4.0, -56.67])\n",
    "\n",
    "def FindAs(x, y, degree):\n",
    "    x0 = np.power(x, 0)\n",
    "    x1 = np.power(x, 1)\n",
    "    x2 = np.power(x, 2)\n",
    "    sumX0 = np.sum(x0)\n",
    "    sumX1 = np.sum(x1)\n",
    "    sumX2 = np.sum(x2)\n",
    "    sumX0Y = np.sum(np.multiply(x0, y))\n",
    "    sumX1Y = np.sum(np.multiply(x1,y))\n",
    "    \n",
    "    size = degree + 1\n",
    "    empty = np.zeros([size, size])\n",
    "  \n",
    "    A = np.matrix(empty)\n",
    "    b = np.matrix(np.zeros([size, 1]))\n",
    "    if(degree == 1):\n",
    "        A = np.matrix([[sumX0, sumX1],[sumX1, sumX2]])\n",
    "        b = np.matrix([[sumX0Y],[sumX1Y]])\n",
    "    elif(degree == 2 or degree == 3):\n",
    "        x3 = np.power(x, 3)\n",
    "        x4 = np.power(x, 4)\n",
    "        sumX3 = np.sum(x3)\n",
    "        sumX4 = np.sum(x4)\n",
    "        sumX2Y = np.sum(np.multiply(x2, y))\n",
    "        \n",
    "        if(degree == 2):\n",
    "            A = np.matrix([[sumX0, sumX1, sumX2],[sumX1, sumX2, sumX3], [sumX2, sumX3, sumX4]])\n",
    "            b = np.matrix([[sumX0Y],[sumX1Y], [sumX2Y]])\n",
    "        else:\n",
    "            x5 = np.power(x, 5)\n",
    "            x6 = np.power(x, 6)\n",
    "            sumX5 = np.sum(x5)\n",
    "            sumX6 = np.sum(x6)\n",
    "            sumX3Y =  np.sum(np.multiply(x3, y))\n",
    "            \n",
    "            A = np.matrix([[sumX0, sumX1, sumX2, sumX3],[sumX1, sumX2, sumX3, sumX4], [sumX2, sumX3, sumX4, sumX5], [sumX3, sumX4, sumX5, sumX6]])\n",
    "            b = np.matrix([[sumX0Y],[sumX1Y], [sumX2Y], [sumX3Y]])\n",
    "        \n",
    "    A_inv = np.linalg.inv(A)\n",
    "    a = A_inv @ b\n",
    "    return a\n",
    "\n",
    "def FindYHat(x,y, degree):\n",
    "    a = FindAs(x, y, degree)\n",
    "    results = np.multiply(x, a[1])\n",
    "    if(degree != 1):\n",
    "        x2 = np.power(x, 2)\n",
    "        results = np.multiply(x2, a[2])\n",
    "    if(degree == 3):\n",
    "        x3 = np.power(x,3)\n",
    "        results = np.multiply(x3, a[3])\n",
    "    results = np.add(results, a[0])\n",
    "    results = np.array(results)\n",
    "    size = results.shape[1]\n",
    "    return results.reshape(size)\n",
    "\n",
    "def SumOfSquares(x, y, degree):\n",
    "    yHat = FindYHat(x, y, degree)\n",
    "    \n",
    "    ssRes = np.subtract(y, yHat)\n",
    "    ssRes = np.power(ssRes, 2)\n",
    "    ssRes = np.sum(ssRes)\n",
    "    \n",
    "    avg = np.mean(y)\n",
    "    ssReg = np.subtract(yHat, avg)\n",
    "    ssReg = np.power(ssReg, 2)\n",
    "    ssReg = np.sum(ssReg)\n",
    "    \n",
    "    ssTot = ssRes + ssReg\n",
    "    \n",
    "    r2 = ssReg/ssTot\n",
    "    return ssRes, ssReg, ssTot, r2\n",
    "\n",
    "degree1A = np.array(FindAs(x,y,1)).reshape(2)\n",
    "degree2A = np.array(FindAs(x,y,2)).reshape(3)\n",
    "degree3A = np.array(FindAs(x,y,3)).reshape(4)\n",
    "print(f\"Least Squares Polynomial of degree 1: y = {degree1A[1]}x + ({degree1A[0]})\")\n",
    "ssRes_1, ssReg_1, ssTot_1, r2_1 = SumOfSquares(x, y, 1)\n",
    "print(\"\\t SSres:\", ssRes_1)\n",
    "print(\"\\t SSreg: \", ssReg_1)\n",
    "print(\"\\t SStot: \", ssTot_1)\n",
    "print(\"\\t R^2:\", r2_1)\n",
    "print(f\"Least Squares Polynomial of degree 2: y = {degree2A[2]}x^2 + {degree2A[1]}x + ({degree2A[0]})\")\n",
    "ssRes_2, ssReg_2, ssTot_2, r2_2 = SumOfSquares(x, y, 2)\n",
    "print(\"\\t SSres:\", ssRes_2)\n",
    "print(\"\\t SSreg: \", ssReg_2)\n",
    "print(\"\\t SStot: \", ssTot_2)\n",
    "print(\"\\t R^2:\", r2_2)\n",
    "print(f\"Least Squares Polynomial of degree 2: y = {degree3A[3]}x^3 + {degree3A[2]}x^2 + {degree3A[1]}x + ({degree3A[0]})\")\n",
    "ssRes_3, ssReg_3, ssTot_3, r2_3 = SumOfSquares(x, y, 3)\n",
    "print(\"\\t SSres:\", ssRes_3)\n",
    "print(\"\\t SSreg: \", ssReg_3)\n",
    "print(\"\\t SStot: \", ssTot_3)\n",
    "print(\"\\t R^2:\", r2_3)"
   ]
  },
  {
   "cell_type": "markdown",
   "metadata": {},
   "source": [
    "Least Squares Polynomial of degree 1: $y = 34.88829602076649x - 58.66515634479413$\n",
    "\n",
    "- $SS_{res}$: 12,779.590354193064\n",
    "\n",
    "- $SS_{reg}$:  3,496.717845806951\n",
    "\n",
    "- $SS_{tot}$:  16,276.308200000014\n",
    "\n",
    "- $R^2$: 0.21483482635251083\n",
    "\n",
    "Least Squares Polynomial of degree 2: $y = -120.47348060522819x^2 + 389.21843131422537x - 260.7318261968598$\n",
    "\n",
    "- $SS_{res}$: 3,666,733.905008404\n",
    "\n",
    "- $SS_{reg}$:  3,594,748.528200675\n",
    "\n",
    "- $SS_{tot}$:  7,261,482.433209078\n",
    "\n",
    "- $R^2$: 0.49504334153047613\n",
    "\t \n",
    "Least Squares Polynomial of degree 2: $y = -114.45087297102327x^3 + 389.45021516270936x^2 + -291.4452484637877x - 6.718371524460963$\n",
    "\n",
    "- $SS_{res}$: 7,074,909.300534538\n",
    "\n",
    "- $SS_{reg}$:  6,963,373.767285682\n",
    "\n",
    "- $SS_{tot}$:  14,038,283.067820221\n",
    "\n",
    "- $R^2$: 0.49602745105259605\n"
   ]
  },
  {
   "cell_type": "code",
   "execution_count": 9,
   "metadata": {},
   "outputs": [
    {
     "data": {
      "text/plain": [
       "<matplotlib.legend.Legend at 0x218ff9ed590>"
      ]
     },
     "execution_count": 9,
     "metadata": {},
     "output_type": "execute_result"
    },
    {
     "data": {
      "image/png": "[encoded data removed]",
      "text/plain": [
       "<Figure size 640x480 with 1 Axes>"
      ]
     },
     "metadata": {},
     "output_type": "display_data"
    }
   ],
   "source": [
    "def p3formula(xi): return degree3A[3] * np.power(xi, 3) + degree3A[2]*np.power(xi, 2) + degree3A[1]*xi + degree3A[0]\n",
    "def p2formula(xi): return degree2A[2] * np.power(xi, 2) + degree2A[1]*xi + degree2A[0]\n",
    "def p1formula(xi): return degree1A[1] * xi + degree1A[0]\n",
    "#Plot\n",
    "#polynomialDeg1 = FindYHat(x, y, 1)\n",
    "#polynomialDeg2 = FindYHat(x, y, 2)\n",
    "#polynomialDeg3 = FindYHat(x, y, 3)\n",
    "Xline = np.linspace(0, 3, 100)\n",
    "\n",
    "plt.scatter(x,y, label=\"Original Points\")\n",
    "plt.plot(Xline, p1formula(np.linspace(0, 3, 100)), label=\"Degree 1\") \n",
    "plt.plot(Xline, p2formula(np.linspace(0, 3, 100)), label=\"Degree 2\")\n",
    "plt.plot(Xline, p3formula(np.linspace(0, 3, 100)), label=\"Degree 3\")\n",
    "plt.legend()"
   ]
  },
  {
   "cell_type": "markdown",
   "metadata": {},
   "source": [
    "---  \n",
    "# Question 4\n",
    "\n",
    "Contributions from Question 4:\n",
    "- Monique Kubovsky: Wrote and tested code\n",
    "- Ibet Gonzalez Viltres: Reviewed Code\n",
    "- Jason Li: Reviewed Code"
   ]
  },
  {
   "cell_type": "code",
   "execution_count": 11,
   "metadata": {},
   "outputs": [],
   "source": [
    "import numpy as np\n",
    "import matplotlib.pyplot as plt\n",
    "from scipy.interpolate import lagrange\n",
    "from scipy.optimize import curve_fit"
   ]
  },
  {
   "cell_type": "code",
   "execution_count": 10,
   "metadata": {},
   "outputs": [],
   "source": [
    "#data values\n",
    "x_i = np.array([4.0, 4.2, 4.5, 4.7, 5.1, 5.5, 5.9, 6.3, 6.8, 7.1])\n",
    "y_i = np.array([102.56, 113.18, 130.11, 142.05, 167.53, 195.14, 224.87, 256.73, 299.50, 326.72])\n",
    "y_log = np.log(y_i)"
   ]
  },
  {
   "cell_type": "code",
   "execution_count": null,
   "metadata": {},
   "outputs": [],
   "source": [
    "#model for y=b*e**(a*x) by taking natural log of both sides\n",
    "#this gives ln(y)=ln(b)+ax"
   ]
  },
  {
   "cell_type": "code",
   "execution_count": 12,
   "metadata": {},
   "outputs": [],
   "source": [
    "#calculate a\n",
    "numerator = np.sum(x_i)*np.sum(y_log) - 10*np.sum(x_i*y_log)\n",
    "denominator = np.sum(x_i)**2 - 10*np.sum(x_i**2)\n",
    "a = numerator/denominator"
   ]
  },
  {
   "cell_type": "code",
   "execution_count": 14,
   "metadata": {},
   "outputs": [],
   "source": [
    "#calculate ln(b) and b\n",
    "numerator = np.sum(y_log) - a*np.sum(x_i)\n",
    "denominator = 10\n",
    "b_log = numerator/denominator\n",
    "b = np.exp(b_log)"
   ]
  },
  {
   "cell_type": "code",
   "execution_count": 15,
   "metadata": {},
   "outputs": [],
   "source": [
    "#model\n",
    "y_fit = b*np.exp(a*x_i)"
   ]
  },
  {
   "cell_type": "code",
   "execution_count": 16,
   "metadata": {},
   "outputs": [
    {
     "data": {
      "image/png": "[encoded data removed]",
      "text/plain": [
       "<Figure size 1000x600 with 1 Axes>"
      ]
     },
     "metadata": {},
     "output_type": "display_data"
    },
    {
     "name": "stdout",
     "output_type": "stream",
     "text": [
      "Estimated Values for a and b: a = 0.37238, b = 24.25876\n"
     ]
    }
   ],
   "source": [
    "# Plot the results\n",
    "plt.figure(figsize=(10, 6))\n",
    "plt.scatter(x_i, y_i, label='Data')\n",
    "plt.plot(x_i, y_fit, 'r-', label='Fitted Curve')\n",
    "plt.xlabel('x')\n",
    "plt.ylabel('y')\n",
    "plt.title(f'Least Squares Approximation: y = {b:.5f}e^({a:.5f}x)')\n",
    "plt.legend()\n",
    "plt.grid(True)\n",
    "plt.show()\n",
    "\n",
    "print(f\"Estimated Values for a and b: a = {a:.5f}, b = {b:.5f}\")"
   ]
  },
  {
   "cell_type": "markdown",
   "metadata": {},
   "source": [
    "The least squares approximation equation is $y = 24.25876e^{0.37238}$ "
   ]
  }
 ],
 "metadata": {
  "kernelspec": {
   "display_name": "Python 3",
   "language": "python",
   "name": "python3"
  },
  "language_info": {
   "codemirror_mode": {
    "name": "ipython",
    "version": 3
   },
   "file_extension": ".py",
   "mimetype": "text/x-python",
   "name": "python",
   "nbconvert_exporter": "python",
   "pygments_lexer": "ipython3",
   "version": "3.11.0"
  }
 },
 "nbformat": 4,
 "nbformat_minor": 2
}
