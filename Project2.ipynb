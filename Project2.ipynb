{
 "cells": [
  {
   "cell_type": "markdown",
   "metadata": {},
   "source": [
    "<H3 align = \"right\">Fall 2024 Computer_Project_2</H3>\n",
    "\n",
    "## Group Number: 8\n",
    "\n",
    "## Names of Student in Group:\n",
    "- Name: Jason Li\n",
    "- Name: Monique Kubovsky\n",
    "- Name: Ibet Gonzalez Viltres"
   ]
  },
  {
   "cell_type": "markdown",
   "metadata": {},
   "source": [
    "---  \n",
    "# Question 1\n",
    "\n",
    "Contributions from Question 1:\n",
    "- Name"
   ]
  },
  {
   "cell_type": "code",
   "execution_count": null,
   "metadata": {},
   "outputs": [],
   "source": []
  },
  {
   "cell_type": "markdown",
   "metadata": {},
   "source": [
    "---  \n",
    "# Question 2\n",
    "\n",
    "Contributions from Question 1:\n",
    "- Name"
   ]
  },
  {
   "cell_type": "code",
   "execution_count": null,
   "metadata": {},
   "outputs": [],
   "source": []
  },
  {
   "cell_type": "markdown",
   "metadata": {},
   "source": [
    "---  \n",
    "# Question 3\n",
    "\n",
    "Contributions from Question 1:\n",
    "- Name"
   ]
  },
  {
   "cell_type": "code",
   "execution_count": null,
   "metadata": {},
   "outputs": [],
   "source": []
  },
  {
   "cell_type": "markdown",
   "metadata": {},
   "source": [
    "---  \n",
    "# Question 4\n",
    "\n",
    "Contributions from Question 1:\n",
    "- Name"
   ]
  },
  {
   "cell_type": "code",
   "execution_count": null,
   "metadata": {},
   "outputs": [],
   "source": []
  }
 ],
 "metadata": {
  "language_info": {
   "name": "python"
  }
 },
 "nbformat": 4,
 "nbformat_minor": 2
}
